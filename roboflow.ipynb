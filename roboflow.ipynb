{
 "cells": [
  {
   "cell_type": "markdown",
   "id": "9ee6a9c4-ceed-49b1-ab75-f9f454e26968",
   "metadata": {},
   "source": [
    "# Computer Vision in JupyterHub\n",
    "#### *Difficulty: Intermediate*"
   ]
  },
  {
   "cell_type": "markdown",
   "id": "17c908b5-1d59-448a-a3fa-7c5bb530be89",
   "metadata": {},
   "source": [
    "### 🌎 Overview\n",
    "In this quickstart, we'll train and run [**YOLOv8**](https://docs.ultralytics.com/), an object detection model, on an open-source dataset from [**Roboflow**](https://roboflow.com/) solely within this JupyterHub notebook!"
   ]
  },
  {
   "cell_type": "markdown",
   "id": "fee16309-62e0-4320-8b2d-b90ca44ad8e8",
   "metadata": {},
   "source": [
    "### 🧠 Prerequisites\n",
    "- Jupyter Notebooks\n",
    "- Python\n",
    "- Basic CLI commands"
   ]
  },
  {
   "cell_type": "markdown",
   "id": "db89b940-1c16-465b-a07d-17ce8f40e117",
   "metadata": {},
   "source": [
    "### ✔ Learning Outcomes\n",
    "1. Grab an open-source dataset from Roboflow (API)\n",
    "2. Use Ultralytics' YOLOv8 library to train and test models\n",
    "3. Create a model fine-tuned on a dataset\n",
    "4. Test the fine-tuned model on an example video"
   ]
  },
  {
   "cell_type": "markdown",
   "id": "c757d6bb-51d6-4ab9-b1e1-2d30d8218da1",
   "metadata": {},
   "source": [
    "### \n",
    "💾 Resource Requirements\n",
    "<table align=\"left\">\n",
    "    <tr>\n",
    "        <th>Option</th>\n",
    "        <th>Selection</th>\n",
    "    </tr>\n",
    "    <tr>\n",
    "        <td>GPU type</td>\n",
    "        <td>L40</td>\n",
    "    </tr>\n",
    "    <tr>\n",
    "        <td>GPUs</td>\n",
    "        <td>1</td>\n",
    "    </tr>\n",
    "    <tr>\n",
    "        <td>CPU</td>\n",
    "        <td>2</td>\n",
    "    </tr>\n",
    "    <tr>\n",
    "        <td>RAM</td>\n",
    "        <td>12</td>\n",
    "    </tr>\n",
    "    <tr>\n",
    "        <td>Image</td>\n",
    "        <td>Stack PRP</td>\n",
    "    </tr>\n",
    "</table>"
   ]
  },
  {
   "cell_type": "markdown",
   "id": "51ecf6f2-b31b-42b6-9f88-8ae5b21fa7ba",
   "metadata": {},
   "source": [
    "### 1. 📚 Libraries\n",
    "In order to make an API call to Roboflow, use YOLOv8, and view results, we'll need to install some external Python libraries"
   ]
  },
  {
   "cell_type": "code",
   "execution_count": 1,
   "id": "49b476f3-d9c3-4efc-9b56-a4cb050fa082",
   "metadata": {
    "scrolled": true
   },
   "outputs": [],
   "source": [
    "# Install ultralytics, open-cv, and roboflow\n",
    "! pip install ultralytics==8.0.196 opencv-python==4.8.0.76 roboflow --quiet\n",
    "\n",
    "# Import external libs to our notebook\n",
    "from IPython.display import display, Image\n",
    "import ultralytics\n",
    "from roboflow import Roboflow\n",
    "import requests\n",
    "import json\n",
    "import pprint\n",
    "import os"
   ]
  },
  {
   "cell_type": "code",
   "execution_count": 2,
   "id": "2e2e043a-0166-4f55-aeb6-cce7eb8dc59e",
   "metadata": {},
   "outputs": [
    {
     "name": "stderr",
     "output_type": "stream",
     "text": [
      "Ultralytics YOLOv8.0.196 🚀 Python-3.11.5 torch-2.0.0+cu117 CUDA:0 (NVIDIA L40, 45373MiB)\n",
      "Setup complete ✅ (24 CPUs, 503.4 GB RAM, 615.2/799.6 GB disk)\n"
     ]
    }
   ],
   "source": [
    "# Check that ultralytics is working and recognizes the notebook's virtual resources\n",
    "ultralytics.checks()"
   ]
  },
  {
   "cell_type": "markdown",
   "id": "b5a36adf-c7ca-4f7b-b2b7-8ab0802794c6",
   "metadata": {},
   "source": [
    "### 2. 📊 Roboflow Dataset\n",
    "Next, we'll get our Roboflow API key, then download an open-source dataset from Roboflow to be used by our object detection model"
   ]
  },
  {
   "cell_type": "markdown",
   "id": "c5ba3841-c2bc-4842-a72d-59ecaacf11a8",
   "metadata": {},
   "source": [
    "#### 2-1. Roboflow API Key\n",
    "To get our own Roboflow API key, follow the steps below:\n",
    "1. Log into or create a free Roboflow account [here](https://app.roboflow.com/login)\n",
    "2. Click on profile > API Keys\n",
    "3. Copy Private API Key\n",
    "4. Paste the key into the below variable"
   ]
  },
  {
   "cell_type": "code",
   "execution_count": 3,
   "id": "14ef7406-7f69-43ed-8e63-1ebf22d8af82",
   "metadata": {},
   "outputs": [],
   "source": [
    "# Paste your Roboflow API key here (don't share with others!)\n",
    "api_key = \"0nTlF4AD6oobdevxJNHS\""
   ]
  },
  {
   "cell_type": "markdown",
   "id": "2bb64d83-8afd-4e47-a84c-cdf7388a99b1",
   "metadata": {},
   "source": [
    "#### 2-2. Dataset Download\n",
    "After we've obtained our API key and pasted it into the above Python variable, we'll download an example dataset and show its basic structure"
   ]
  },
  {
   "cell_type": "code",
   "execution_count": 4,
   "id": "95e23e2a-989f-4564-b231-27e2e7c3e062",
   "metadata": {},
   "outputs": [
    {
     "name": "stdout",
     "output_type": "stream",
     "text": [
      "loading Roboflow workspace...\n",
      "loading Roboflow project...\n",
      "\n",
      "Train Set: 456 Images\n",
      "Valid Set: 94 Images\n",
      "Test Set: 93 Images\n"
     ]
    }
   ],
   "source": [
    "# Set file path shortcuts\n",
    "HOME = os.getcwd()\n",
    "DATA_PATH = f\"{HOME}/pickleball-frames-1\"\n",
    "YAML_PATH = f\"{DATA_PATH}/data.yaml\"\n",
    "\n",
    "# Download the dataset from Roboflow using the API key\n",
    "rf = Roboflow(api_key=api_key)\n",
    "project = rf.workspace(\"pickleballtombradyreachout\").project(\"pickleball-frames\")\n",
    "version = project.version(1)\n",
    "dataset = version.download(\"yolov8\")\n",
    "\n",
    "# Print the number of samples\n",
    "train_dir = f\"{DATA_PATH}/train/images\"\n",
    "valid_dir = f\"{DATA_PATH}/valid/images\"\n",
    "test_dir = f\"{DATA_PATH}/test/images\"\n",
    "\n",
    "# Get the number of images in each subset\n",
    "train_count = len([file for file in os.listdir(train_dir) if os.path.isfile(os.path.join(train_dir, file))])\n",
    "valid_count = len([file for file in os.listdir(valid_dir) if os.path.isfile(os.path.join(valid_dir, file))])\n",
    "test_count = len([file for file in os.listdir(test_dir) if os.path.isfile(os.path.join(test_dir, file))])\n",
    "\n",
    "print(f\"\\nTrain Set: {train_count} Images\")\n",
    "print(f\"Valid Set: {valid_count} Images\")\n",
    "print(f\"Test Set: {test_count} Images\")"
   ]
  },
  {
   "cell_type": "markdown",
   "id": "1a30865b-c7c9-469f-9e29-809074bbb05f",
   "metadata": {},
   "source": [
    "### 3. 🦾 Training\n",
    "Once we've downloaded our dataset, we'll fine-tune the YOLOv8 model on this data"
   ]
  },
  {
   "cell_type": "code",
   "execution_count": null,
   "id": "e3702575-efc5-4f0c-82b2-4e2b610048d2",
   "metadata": {
    "scrolled": true
   },
   "outputs": [
    {
     "name": "stdout",
     "output_type": "stream",
     "text": [
      "New https://pypi.org/project/ultralytics/8.3.90 available 😃 Update with 'pip install -U ultralytics'\n",
      "Ultralytics YOLOv8.0.196 🚀 Python-3.11.5 torch-2.0.0+cu117 CUDA:0 (NVIDIA L40, 45373MiB)\n",
      "\u001b[34m\u001b[1mengine/trainer: \u001b[0mtask=detect, mode=train, model=yolov8s.pt, data=/home/jovyan/pickleball-frames-1/data.yaml, epochs=25, patience=50, batch=16, imgsz=800, save=True, save_period=-1, cache=False, device=None, workers=0, project=None, name=None, exist_ok=False, pretrained=True, optimizer=auto, verbose=True, seed=0, deterministic=True, single_cls=False, rect=False, cos_lr=False, close_mosaic=10, resume=False, amp=True, fraction=1.0, profile=False, freeze=None, overlap_mask=True, mask_ratio=4, dropout=0.0, val=True, split=val, save_json=False, save_hybrid=False, conf=None, iou=0.7, max_det=300, half=False, dnn=False, plots=True, source=None, show=False, save_txt=False, save_conf=False, save_crop=False, show_labels=True, show_conf=True, vid_stride=1, stream_buffer=False, line_width=None, visualize=False, augment=False, agnostic_nms=False, classes=None, retina_masks=False, boxes=True, format=torchscript, keras=False, optimize=False, int8=False, dynamic=False, simplify=False, opset=None, workspace=4, nms=False, lr0=0.01, lrf=0.01, momentum=0.937, weight_decay=0.0005, warmup_epochs=3.0, warmup_momentum=0.8, warmup_bias_lr=0.1, box=7.5, cls=0.5, dfl=1.5, pose=12.0, kobj=1.0, label_smoothing=0.0, nbs=64, hsv_h=0.015, hsv_s=0.7, hsv_v=0.4, degrees=0.0, translate=0.1, scale=0.5, shear=0.0, perspective=0.0, flipud=0.0, fliplr=0.5, mosaic=1.0, mixup=0.0, copy_paste=0.0, cfg=None, tracker=botsort.yaml, save_dir=runs/detect/train6\n"
     ]
    }
   ],
   "source": [
    "# Flag to protect train/validation/testing from auto-running\n",
    "commence = True\n",
    "\n",
    "# Train model (replace with yolov8x.pt for performance/time comparison)\n",
    "if commence:\n",
    "    ! yolo task=detect mode=train model=yolov8s.pt data={YAML_PATH} imgsz=800 epochs=25 plots=True workers=0\n",
    "else:\n",
    "    print(f\"Model has been trained. Results at {HOME}/runs/detect\")"
   ]
  },
  {
   "cell_type": "markdown",
   "id": "d8d37c00-c492-4a28-b9c7-72caacdc1b17",
   "metadata": {},
   "source": [
    "### 4. 🎬 Inference\n",
    "Finally, we'll take our fine-tuned model and test it on a short video"
   ]
  },
  {
   "cell_type": "markdown",
   "id": "e40b408d-ea80-4da9-9823-d174e9c18c66",
   "metadata": {},
   "source": [
    "#### 4-1. Test Video\n",
    "The below command uses the `wget` tool to download a short video of a pro pickleball match which we'll feed to the model we trained above"
   ]
  },
  {
   "cell_type": "code",
   "execution_count": null,
   "id": "fedf836a-17f7-4fe2-b0e1-0b48f671cffd",
   "metadata": {},
   "outputs": [],
   "source": [
    "# Download an example video from Google Drive\n",
    "! wget -O test-video.mp4 \"https://drive.usercontent.google.com/download?id=1kt3wMNvjxYWqIUeTvk8ZjYbtvLPvvumj&export=download&authuser=0&confirm=yes\""
   ]
  },
  {
   "cell_type": "markdown",
   "id": "5e6d627c-af12-4947-8f95-c1e34fba6dde",
   "metadata": {},
   "source": [
    "#### 4.2. Object Tracking\n",
    "The following code uses the fine-tuned model to perform object detection (tracking players) on the test video"
   ]
  },
  {
   "cell_type": "code",
   "execution_count": null,
   "id": "0b74bf7b-b0c5-44ff-8b84-a69dee981574",
   "metadata": {},
   "outputs": [],
   "source": [
    "!pip install ultralytics\n",
    "\n",
    "from PIL import Image\n",
    "from ultralytics import YOLO\n",
    "import cv2\n",
    "import os\n",
    "\n",
    "# Load the fine-tuned model\n",
    "# Set file path shortcuts\n",
    "HOME = os.getcwd()\n",
    "DATA_PATH = f\"{HOME}/pickleball-frames-1\"\n",
    "YAML_PATH = f\"{DATA_PATH}/data.yaml\"\n",
    "model_path = f'{HOME}/runs/detect/train/weights/best.pt'\n",
    "model = YOLO(model_path)\n",
    "\n",
    "# Open the video file\n",
    "input_video = f\"{HOME}/test-video.mp4\"\n",
    "cap = cv2.VideoCapture(input_video)\n",
    "\n",
    "# Get the frame rate and size\n",
    "fps = cap.get(cv2.CAP_PROP_FPS)\n",
    "width = int(cap.get(cv2.CAP_PROP_FRAME_WIDTH))\n",
    "height = int(cap.get(cv2.CAP_PROP_FRAME_HEIGHT))\n",
    "\n",
    "# Create a video writer\n",
    "out = cv2.VideoWriter(f'{HOME}/test-output.mp4', cv2.VideoWriter_fourcc(*'mp4v'), fps, (width, height))\n",
    "\n",
    "# Loop over the frames\n",
    "while cap.isOpened():\n",
    "    # Read a frame\n",
    "    ret, frame = cap.read()\n",
    "    if not ret:\n",
    "        break\n",
    "\n",
    "    # Run inference on the frame\n",
    "    results = model(frame)\n",
    "\n",
    "    # Plot the results on the frame\n",
    "    im_array = results[0].plot()\n",
    "\n",
    "    # Write the frame to the output file\n",
    "    out.write(im_array)\n",
    "    # Wait for a key press or end of video\n",
    "    if cv2.waitKey(1) & 0xFF == ord('q'):\n",
    "        break\n",
    "\n",
    "# Release the video capture, writer and destroy the window\n",
    "cap.release()\n",
    "out.release()\n",
    "\n",
    "print(f\"Model has produced output video. Results at {HOME}/test-output.mp4\")"
   ]
  },
  {
   "cell_type": "code",
   "execution_count": null,
   "id": "6e73c3ee-f83a-4d91-afcf-631f4eca386c",
   "metadata": {},
   "outputs": [],
   "source": []
  }
 ],
 "metadata": {
  "kernelspec": {
   "display_name": "Python [conda env:base] *",
   "language": "python",
   "name": "conda-base-py"
  },
  "language_info": {
   "codemirror_mode": {
    "name": "ipython",
    "version": 3
   },
   "file_extension": ".py",
   "mimetype": "text/x-python",
   "name": "python",
   "nbconvert_exporter": "python",
   "pygments_lexer": "ipython3",
   "version": "3.11.5"
  }
 },
 "nbformat": 4,
 "nbformat_minor": 5
}
