{
 "cells": [
  {
   "cell_type": "code",
   "execution_count": 1,
   "id": "c484f239-6960-46cb-b60c-10b409e64b82",
   "metadata": {},
   "outputs": [],
   "source": [
    "# Define the movies and their feature values\n",
    "movies = {\n",
    "    \"Inception\":           {\"nolan_directed\": 1, \"sci_fi\": 1, \"time_related\": 1, \"emotional_depth\": 1, \"action\": 1},\n",
    "    \"Interstellar\":        {\"nolan_directed\": 1, \"sci_fi\": 1, \"time_related\": 1, \"emotional_depth\": 1, \"action\": 0},\n",
    "    \"The Social Network\":     {\"nolan_directed\": 1, \"sci_fi\": 0, \"time_related\": 0, \"emotional_depth\": 1, \"action\": 1},\n",
    "    \"The Wolf of Wall Street\":               {\"nolan_directed\": 1, \"sci_fi\": 1, \"time_related\": 1, \"emotional_depth\": 0, \"action\": 1},\n",
    "    \"Snowden\":             {\"nolan_directed\": 0, \"sci_fi\": 0, \"time_related\": 0, \"emotional_depth\": 1, \"action\": 0},\n",
    "    \"Oppenheimer\":         {\"nolan_directed\": 1, \"sci_fi\": 0, \"time_related\": 0, \"emotional_depth\": 1, \"action\": 0},\n",
    "    \"The Prestige\":        {\"nolan_directed\": 1, \"sci_fi\": 0, \"time_related\": 1, \"emotional_depth\": 1, \"action\": 0},\n",
    "    \"Memento\":             {\"nolan_directed\": 1, \"sci_fi\": 0, \"time_related\": 1, \"emotional_depth\": 1, \"action\": 0},\n",
    "    \"Blade Runner 2049\":   {\"nolan_directed\": 0, \"sci_fi\": 1, \"time_related\": 0, \"emotional_depth\": 1, \"action\": 1},\n",
    "}\n",
    "\n",
    "# Define feature weights (you can tune these)\n",
    "weights = {\n",
    "    \"nolan_directed\": 2,\n",
    "    \"sci_fi\": 2,\n",
    "    \"time_related\": 1.5,\n",
    "    \"emotional_depth\": 2,\n",
    "    \"action\": 1\n",
    "}"
   ]
  },
  {
   "cell_type": "code",
   "execution_count": 2,
   "id": "ed16deb6-47b7-4b59-84ac-b4104a9a8a73",
   "metadata": {},
   "outputs": [
    {
     "name": "stdout",
     "output_type": "stream",
     "text": [
      "Non-LLM Ranked Movie List:\n",
      "1. Inception (Score: 8.5)\n",
      "2. Interstellar (Score: 7.5)\n",
      "3. The Wolf of Wall Street (Score: 6.5)\n",
      "4. The Prestige (Score: 5.5)\n",
      "5. Memento (Score: 5.5)\n",
      "6. The Social Network (Score: 5.0)\n",
      "7. Blade Runner 2049 (Score: 5.0)\n",
      "8. Oppenheimer (Score: 4.0)\n",
      "9. Snowden (Score: 2.0)\n"
     ]
    }
   ],
   "source": [
    "# Compute score for each movie\n",
    "def compute_score(features):\n",
    "    return sum(features[feat] * weights[feat] for feat in features)\n",
    "\n",
    "# Create scored list\n",
    "ranked_movies = []\n",
    "for movie, features in movies.items():\n",
    "    score = compute_score(features)\n",
    "    ranked_movies.append((movie, score))\n",
    "\n",
    "# Sort movies by score in descending order\n",
    "ranked_movies.sort(key=lambda x: x[1], reverse=True)\n",
    "\n",
    "# Display results\n",
    "print(\"Non-LLM Ranked Movie List:\")\n",
    "for i, (movie, score) in enumerate(ranked_movies, 1):\n",
    "    print(f\"{i}. {movie} (Score: {score})\")"
   ]
  },
  {
   "cell_type": "code",
   "execution_count": null,
   "id": "e8a67f9c-6a7b-47be-8447-abc8eb0e6f4a",
   "metadata": {},
   "outputs": [],
   "source": []
  }
 ],
 "metadata": {
  "kernelspec": {
   "display_name": "Python [conda env:llm]",
   "language": "python",
   "name": "conda-env-llm-py"
  },
  "language_info": {
   "codemirror_mode": {
    "name": "ipython",
    "version": 3
   },
   "file_extension": ".py",
   "mimetype": "text/x-python",
   "name": "python",
   "nbconvert_exporter": "python",
   "pygments_lexer": "ipython3",
   "version": "3.11.5"
  }
 },
 "nbformat": 4,
 "nbformat_minor": 5
}
